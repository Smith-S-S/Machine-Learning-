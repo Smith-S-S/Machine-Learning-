{
 "cells": [
  {
   "cell_type": "code",
   "execution_count": 21,
   "id": "53afd2bf",
   "metadata": {},
   "outputs": [],
   "source": [
    "import pandas as pd\n",
    "import numpy as np\n",
    "import matplotlib.pyplot as plt\n",
    "from IPython.core.interactiveshell import InteractiveShell\n",
    "InteractiveShell.ast_node_interactivity = \"all\"\n",
    "import seaborn as sns"
   ]
  },
  {
   "cell_type": "code",
   "execution_count": 2,
   "id": "06c4d249",
   "metadata": {},
   "outputs": [],
   "source": [
    "df=pd.read_csv(\"Downloads/gld_price_data.csv\")"
   ]
  },
  {
   "cell_type": "code",
   "execution_count": 3,
   "id": "7ad05b35",
   "metadata": {},
   "outputs": [
    {
     "data": {
      "text/html": [
       "<div>\n",
       "<style scoped>\n",
       "    .dataframe tbody tr th:only-of-type {\n",
       "        vertical-align: middle;\n",
       "    }\n",
       "\n",
       "    .dataframe tbody tr th {\n",
       "        vertical-align: top;\n",
       "    }\n",
       "\n",
       "    .dataframe thead th {\n",
       "        text-align: right;\n",
       "    }\n",
       "</style>\n",
       "<table border=\"1\" class=\"dataframe\">\n",
       "  <thead>\n",
       "    <tr style=\"text-align: right;\">\n",
       "      <th></th>\n",
       "      <th>Date</th>\n",
       "      <th>SPX</th>\n",
       "      <th>GLD</th>\n",
       "      <th>USO</th>\n",
       "      <th>SLV</th>\n",
       "      <th>EUR/USD</th>\n",
       "    </tr>\n",
       "  </thead>\n",
       "  <tbody>\n",
       "    <tr>\n",
       "      <th>0</th>\n",
       "      <td>1/2/2008</td>\n",
       "      <td>1447.160034</td>\n",
       "      <td>84.860001</td>\n",
       "      <td>78.470001</td>\n",
       "      <td>15.180</td>\n",
       "      <td>1.471692</td>\n",
       "    </tr>\n",
       "    <tr>\n",
       "      <th>1</th>\n",
       "      <td>1/3/2008</td>\n",
       "      <td>1447.160034</td>\n",
       "      <td>85.570000</td>\n",
       "      <td>78.370003</td>\n",
       "      <td>15.285</td>\n",
       "      <td>1.474491</td>\n",
       "    </tr>\n",
       "    <tr>\n",
       "      <th>2</th>\n",
       "      <td>1/4/2008</td>\n",
       "      <td>1411.630005</td>\n",
       "      <td>85.129997</td>\n",
       "      <td>77.309998</td>\n",
       "      <td>15.167</td>\n",
       "      <td>1.475492</td>\n",
       "    </tr>\n",
       "    <tr>\n",
       "      <th>3</th>\n",
       "      <td>1/7/2008</td>\n",
       "      <td>1416.180054</td>\n",
       "      <td>84.769997</td>\n",
       "      <td>75.500000</td>\n",
       "      <td>15.053</td>\n",
       "      <td>1.468299</td>\n",
       "    </tr>\n",
       "    <tr>\n",
       "      <th>4</th>\n",
       "      <td>1/8/2008</td>\n",
       "      <td>1390.189941</td>\n",
       "      <td>86.779999</td>\n",
       "      <td>76.059998</td>\n",
       "      <td>15.590</td>\n",
       "      <td>1.557099</td>\n",
       "    </tr>\n",
       "  </tbody>\n",
       "</table>\n",
       "</div>"
      ],
      "text/plain": [
       "       Date          SPX        GLD        USO     SLV   EUR/USD\n",
       "0  1/2/2008  1447.160034  84.860001  78.470001  15.180  1.471692\n",
       "1  1/3/2008  1447.160034  85.570000  78.370003  15.285  1.474491\n",
       "2  1/4/2008  1411.630005  85.129997  77.309998  15.167  1.475492\n",
       "3  1/7/2008  1416.180054  84.769997  75.500000  15.053  1.468299\n",
       "4  1/8/2008  1390.189941  86.779999  76.059998  15.590  1.557099"
      ]
     },
     "execution_count": 3,
     "metadata": {},
     "output_type": "execute_result"
    }
   ],
   "source": [
    "df.head()"
   ]
  },
  {
   "cell_type": "code",
   "execution_count": 6,
   "id": "8da98fcb",
   "metadata": {},
   "outputs": [
    {
     "data": {
      "text/plain": [
       "(2290, 6)"
      ]
     },
     "execution_count": 6,
     "metadata": {},
     "output_type": "execute_result"
    },
    {
     "name": "stdout",
     "output_type": "stream",
     "text": [
      "<class 'pandas.core.frame.DataFrame'>\n",
      "RangeIndex: 2290 entries, 0 to 2289\n",
      "Data columns (total 6 columns):\n",
      " #   Column   Non-Null Count  Dtype  \n",
      "---  ------   --------------  -----  \n",
      " 0   Date     2290 non-null   object \n",
      " 1   SPX      2290 non-null   float64\n",
      " 2   GLD      2290 non-null   float64\n",
      " 3   USO      2290 non-null   float64\n",
      " 4   SLV      2290 non-null   float64\n",
      " 5   EUR/USD  2290 non-null   float64\n",
      "dtypes: float64(5), object(1)\n",
      "memory usage: 107.5+ KB\n"
     ]
    },
    {
     "data": {
      "text/html": [
       "<div>\n",
       "<style scoped>\n",
       "    .dataframe tbody tr th:only-of-type {\n",
       "        vertical-align: middle;\n",
       "    }\n",
       "\n",
       "    .dataframe tbody tr th {\n",
       "        vertical-align: top;\n",
       "    }\n",
       "\n",
       "    .dataframe thead th {\n",
       "        text-align: right;\n",
       "    }\n",
       "</style>\n",
       "<table border=\"1\" class=\"dataframe\">\n",
       "  <thead>\n",
       "    <tr style=\"text-align: right;\">\n",
       "      <th></th>\n",
       "      <th>SPX</th>\n",
       "      <th>GLD</th>\n",
       "      <th>USO</th>\n",
       "      <th>SLV</th>\n",
       "      <th>EUR/USD</th>\n",
       "    </tr>\n",
       "  </thead>\n",
       "  <tbody>\n",
       "    <tr>\n",
       "      <th>count</th>\n",
       "      <td>2290.000000</td>\n",
       "      <td>2290.000000</td>\n",
       "      <td>2290.000000</td>\n",
       "      <td>2290.000000</td>\n",
       "      <td>2290.000000</td>\n",
       "    </tr>\n",
       "    <tr>\n",
       "      <th>mean</th>\n",
       "      <td>1654.315776</td>\n",
       "      <td>122.732875</td>\n",
       "      <td>31.842221</td>\n",
       "      <td>20.084997</td>\n",
       "      <td>1.283653</td>\n",
       "    </tr>\n",
       "    <tr>\n",
       "      <th>std</th>\n",
       "      <td>519.111540</td>\n",
       "      <td>23.283346</td>\n",
       "      <td>19.523517</td>\n",
       "      <td>7.092566</td>\n",
       "      <td>0.131547</td>\n",
       "    </tr>\n",
       "    <tr>\n",
       "      <th>min</th>\n",
       "      <td>676.530029</td>\n",
       "      <td>70.000000</td>\n",
       "      <td>7.960000</td>\n",
       "      <td>8.850000</td>\n",
       "      <td>1.039047</td>\n",
       "    </tr>\n",
       "    <tr>\n",
       "      <th>25%</th>\n",
       "      <td>1239.874969</td>\n",
       "      <td>109.725000</td>\n",
       "      <td>14.380000</td>\n",
       "      <td>15.570000</td>\n",
       "      <td>1.171313</td>\n",
       "    </tr>\n",
       "    <tr>\n",
       "      <th>50%</th>\n",
       "      <td>1551.434998</td>\n",
       "      <td>120.580002</td>\n",
       "      <td>33.869999</td>\n",
       "      <td>17.268500</td>\n",
       "      <td>1.303297</td>\n",
       "    </tr>\n",
       "    <tr>\n",
       "      <th>75%</th>\n",
       "      <td>2073.010070</td>\n",
       "      <td>132.840004</td>\n",
       "      <td>37.827501</td>\n",
       "      <td>22.882500</td>\n",
       "      <td>1.369971</td>\n",
       "    </tr>\n",
       "    <tr>\n",
       "      <th>max</th>\n",
       "      <td>2872.870117</td>\n",
       "      <td>184.589996</td>\n",
       "      <td>117.480003</td>\n",
       "      <td>47.259998</td>\n",
       "      <td>1.598798</td>\n",
       "    </tr>\n",
       "  </tbody>\n",
       "</table>\n",
       "</div>"
      ],
      "text/plain": [
       "               SPX          GLD          USO          SLV      EUR/USD\n",
       "count  2290.000000  2290.000000  2290.000000  2290.000000  2290.000000\n",
       "mean   1654.315776   122.732875    31.842221    20.084997     1.283653\n",
       "std     519.111540    23.283346    19.523517     7.092566     0.131547\n",
       "min     676.530029    70.000000     7.960000     8.850000     1.039047\n",
       "25%    1239.874969   109.725000    14.380000    15.570000     1.171313\n",
       "50%    1551.434998   120.580002    33.869999    17.268500     1.303297\n",
       "75%    2073.010070   132.840004    37.827501    22.882500     1.369971\n",
       "max    2872.870117   184.589996   117.480003    47.259998     1.598798"
      ]
     },
     "execution_count": 6,
     "metadata": {},
     "output_type": "execute_result"
    },
    {
     "data": {
      "text/plain": [
       "Date       0\n",
       "SPX        0\n",
       "GLD        0\n",
       "USO        0\n",
       "SLV        0\n",
       "EUR/USD    0\n",
       "dtype: int64"
      ]
     },
     "execution_count": 6,
     "metadata": {},
     "output_type": "execute_result"
    }
   ],
   "source": [
    "df.shape\n",
    "df.info()\n",
    "df.describe()\n",
    "df.isnull().sum()"
   ]
  },
  {
   "cell_type": "code",
   "execution_count": 11,
   "id": "8e219001",
   "metadata": {},
   "outputs": [],
   "source": [
    "df[\"Date\"]=pd.to_datetime(df[\"Date\"],format=\"%m/%d/%Y\")"
   ]
  },
  {
   "cell_type": "code",
   "execution_count": 12,
   "id": "bdb63a55",
   "metadata": {},
   "outputs": [
    {
     "name": "stdout",
     "output_type": "stream",
     "text": [
      "<class 'pandas.core.frame.DataFrame'>\n",
      "RangeIndex: 2290 entries, 0 to 2289\n",
      "Data columns (total 6 columns):\n",
      " #   Column   Non-Null Count  Dtype         \n",
      "---  ------   --------------  -----         \n",
      " 0   Date     2290 non-null   datetime64[ns]\n",
      " 1   SPX      2290 non-null   float64       \n",
      " 2   GLD      2290 non-null   float64       \n",
      " 3   USO      2290 non-null   float64       \n",
      " 4   SLV      2290 non-null   float64       \n",
      " 5   EUR/USD  2290 non-null   float64       \n",
      "dtypes: datetime64[ns](1), float64(5)\n",
      "memory usage: 107.5 KB\n"
     ]
    }
   ],
   "source": [
    "df.info()"
   ]
  },
  {
   "cell_type": "code",
   "execution_count": 13,
   "id": "8f5c22a0",
   "metadata": {},
   "outputs": [],
   "source": [
    "df['Date'] = df['Date'].dt.strftime('%d/%m/%Y')"
   ]
  },
  {
   "cell_type": "code",
   "execution_count": 14,
   "id": "7fac8a17",
   "metadata": {},
   "outputs": [
    {
     "data": {
      "text/html": [
       "<div>\n",
       "<style scoped>\n",
       "    .dataframe tbody tr th:only-of-type {\n",
       "        vertical-align: middle;\n",
       "    }\n",
       "\n",
       "    .dataframe tbody tr th {\n",
       "        vertical-align: top;\n",
       "    }\n",
       "\n",
       "    .dataframe thead th {\n",
       "        text-align: right;\n",
       "    }\n",
       "</style>\n",
       "<table border=\"1\" class=\"dataframe\">\n",
       "  <thead>\n",
       "    <tr style=\"text-align: right;\">\n",
       "      <th></th>\n",
       "      <th>Date</th>\n",
       "      <th>SPX</th>\n",
       "      <th>GLD</th>\n",
       "      <th>USO</th>\n",
       "      <th>SLV</th>\n",
       "      <th>EUR/USD</th>\n",
       "    </tr>\n",
       "  </thead>\n",
       "  <tbody>\n",
       "    <tr>\n",
       "      <th>0</th>\n",
       "      <td>02/01/2008</td>\n",
       "      <td>1447.160034</td>\n",
       "      <td>84.860001</td>\n",
       "      <td>78.470001</td>\n",
       "      <td>15.180</td>\n",
       "      <td>1.471692</td>\n",
       "    </tr>\n",
       "    <tr>\n",
       "      <th>1</th>\n",
       "      <td>03/01/2008</td>\n",
       "      <td>1447.160034</td>\n",
       "      <td>85.570000</td>\n",
       "      <td>78.370003</td>\n",
       "      <td>15.285</td>\n",
       "      <td>1.474491</td>\n",
       "    </tr>\n",
       "    <tr>\n",
       "      <th>2</th>\n",
       "      <td>04/01/2008</td>\n",
       "      <td>1411.630005</td>\n",
       "      <td>85.129997</td>\n",
       "      <td>77.309998</td>\n",
       "      <td>15.167</td>\n",
       "      <td>1.475492</td>\n",
       "    </tr>\n",
       "    <tr>\n",
       "      <th>3</th>\n",
       "      <td>07/01/2008</td>\n",
       "      <td>1416.180054</td>\n",
       "      <td>84.769997</td>\n",
       "      <td>75.500000</td>\n",
       "      <td>15.053</td>\n",
       "      <td>1.468299</td>\n",
       "    </tr>\n",
       "    <tr>\n",
       "      <th>4</th>\n",
       "      <td>08/01/2008</td>\n",
       "      <td>1390.189941</td>\n",
       "      <td>86.779999</td>\n",
       "      <td>76.059998</td>\n",
       "      <td>15.590</td>\n",
       "      <td>1.557099</td>\n",
       "    </tr>\n",
       "  </tbody>\n",
       "</table>\n",
       "</div>"
      ],
      "text/plain": [
       "         Date          SPX        GLD        USO     SLV   EUR/USD\n",
       "0  02/01/2008  1447.160034  84.860001  78.470001  15.180  1.471692\n",
       "1  03/01/2008  1447.160034  85.570000  78.370003  15.285  1.474491\n",
       "2  04/01/2008  1411.630005  85.129997  77.309998  15.167  1.475492\n",
       "3  07/01/2008  1416.180054  84.769997  75.500000  15.053  1.468299\n",
       "4  08/01/2008  1390.189941  86.779999  76.059998  15.590  1.557099"
      ]
     },
     "execution_count": 14,
     "metadata": {},
     "output_type": "execute_result"
    }
   ],
   "source": [
    "df.head()"
   ]
  },
  {
   "cell_type": "markdown",
   "id": "4d49464a",
   "metadata": {},
   "source": [
    "# always check for regression problems\n",
    "# going to check corrlations\n",
    "\n",
    "## positive:  when one variable rises or falls, the other does the same. \n",
    "## negative : A negative correlation is when two variables move opposite one another so that when one variable rises, the other falls.\n",
    "### basically telling the relation between the 2 columns "
   ]
  },
  {
   "cell_type": "code",
   "execution_count": 20,
   "id": "f195288b",
   "metadata": {},
   "outputs": [
    {
     "name": "stderr",
     "output_type": "stream",
     "text": [
      "/var/folders/zp/yykz6vt92kgckn24pqx3zc7w0000gn/T/ipykernel_1678/2805711298.py:1: FutureWarning: The default value of numeric_only in DataFrame.corr is deprecated. In a future version, it will default to False. Select only valid columns or specify the value of numeric_only to silence this warning.\n",
      "  corrlations= df.corr()\n"
     ]
    }
   ],
   "source": [
    "corrlations= df.corr()"
   ]
  },
  {
   "cell_type": "code",
   "execution_count": 27,
   "id": "190bdb1a",
   "metadata": {},
   "outputs": [
    {
     "data": {
      "text/plain": [
       "<Figure size 576x576 with 0 Axes>"
      ]
     },
     "execution_count": 27,
     "metadata": {},
     "output_type": "execute_result"
    },
    {
     "data": {
      "text/plain": [
       "<AxesSubplot:>"
      ]
     },
     "execution_count": 27,
     "metadata": {},
     "output_type": "execute_result"
    },
    {
     "data": {
      "image/png": "[encoded data removed]",
      "text/plain": [
       "<Figure size 576x576 with 2 Axes>"
      ]
     },
     "metadata": {
      "needs_background": "light"
     },
     "output_type": "display_data"
    }
   ],
   "source": [
    "plt.figure(figsize=(8,8))\n",
    "sns.heatmap(corrlations,cbar=True,square=False,fmt=\".1f\",annot=True,annot_kws={\"size\":8},cmap=\"Reds\")"
   ]
  },
  {
   "cell_type": "code",
   "execution_count": 28,
   "id": "7968c5fd",
   "metadata": {},
   "outputs": [
    {
     "data": {
      "text/plain": [
       "SPX        0.049345\n",
       "GLD        1.000000\n",
       "USO       -0.186360\n",
       "SLV        0.866632\n",
       "EUR/USD   -0.024375\n",
       "Name: GLD, dtype: float64"
      ]
     },
     "execution_count": 28,
     "metadata": {},
     "output_type": "execute_result"
    }
   ],
   "source": [
    "corrlations[\"GLD\"]"
   ]
  },
  {
   "cell_type": "code",
   "execution_count": 29,
   "id": "dab9e955",
   "metadata": {},
   "outputs": [
    {
     "name": "stderr",
     "output_type": "stream",
     "text": [
      "/Users/smithss/opt/anaconda3/lib/python3.9/site-packages/seaborn/distributions.py:2619: FutureWarning: `distplot` is a deprecated function and will be removed in a future version. Please adapt your code to use either `displot` (a figure-level function with similar flexibility) or `histplot` (an axes-level function for histograms).\n",
      "  warnings.warn(msg, FutureWarning)\n"
     ]
    },
    {
     "data": {
      "text/plain": [
       "<AxesSubplot:xlabel='GLD', ylabel='Density'>"
      ]
     },
     "execution_count": 29,
     "metadata": {},
     "output_type": "execute_result"
    },
    {
     "data": {
      "image/png": "[encoded data removed]",
      "text/plain": [
       "<Figure size 432x288 with 1 Axes>"
      ]
     },
     "metadata": {
      "needs_background": "light"
     },
     "output_type": "display_data"
    }
   ],
   "source": [
    "sns.distplot(df.GLD)"
   ]
  },
  {
   "cell_type": "code",
   "execution_count": 32,
   "id": "7bd49fd4",
   "metadata": {
    "scrolled": true
   },
   "outputs": [
    {
     "name": "stderr",
     "output_type": "stream",
     "text": [
      "/Users/smithss/opt/anaconda3/lib/python3.9/site-packages/seaborn/_decorators.py:36: FutureWarning: Pass the following variables as keyword args: x, y. From version 0.12, the only valid positional argument will be `data`, and passing other arguments without an explicit keyword will result in an error or misinterpretation.\n",
      "  warnings.warn(\n"
     ]
    },
    {
     "data": {
      "text/plain": [
       "<AxesSubplot:xlabel='Date', ylabel='GLD'>"
      ]
     },
     "execution_count": 32,
     "metadata": {},
     "output_type": "execute_result"
    },
    {
     "data": {
      "image/png": "[encoded data removed]",
      "text/plain": [
       "<Figure size 432x288 with 1 Axes>"
      ]
     },
     "metadata": {
      "needs_background": "light"
     },
     "output_type": "display_data"
    }
   ],
   "source": [
    "sns.barplot(df.Date[:25],df.GLD[:25])"
   ]
  },
  {
   "cell_type": "code",
   "execution_count": 39,
   "id": "a53660b6",
   "metadata": {},
   "outputs": [],
   "source": [
    "x=df.drop([\"Date\",\"GLD\"],axis=1)\n",
    "y=df[\"GLD\"]"
   ]
  },
  {
   "cell_type": "code",
   "execution_count": 65,
   "id": "f4ece467",
   "metadata": {},
   "outputs": [],
   "source": [
    "from sklearn.linear_model import LogisticRegression\n",
    "model=LogisticRegression()\n",
    "from sklearn.model_selection import train_test_split\n",
    "x_train,x_test,y_train,y_test=train_test_split(x,y,test_size=0.2,random_state=2)"
   ]
  },
  {
   "cell_type": "code",
   "execution_count": 66,
   "id": "1002bcf0",
   "metadata": {},
   "outputs": [],
   "source": [
    "from sklearn.ensemble import RandomForestRegressor"
   ]
  },
  {
   "cell_type": "code",
   "execution_count": 67,
   "id": "bbfc6330",
   "metadata": {},
   "outputs": [],
   "source": [
    "model_RandomForestRegressor=RandomForestRegressor(n_estimators=100)"
   ]
  },
  {
   "cell_type": "code",
   "execution_count": 68,
   "id": "17cbabfc",
   "metadata": {},
   "outputs": [
    {
     "data": {
      "text/html": [
       "<style>#sk-container-id-3 {color: black;background-color: white;}#sk-container-id-3 pre{padding: 0;}#sk-container-id-3 div.sk-toggleable {background-color: white;}#sk-container-id-3 label.sk-toggleable__label {cursor: pointer;display: block;width: 100%;margin-bottom: 0;padding: 0.3em;box-sizing: border-box;text-align: center;}#sk-container-id-3 label.sk-toggleable__label-arrow:before {content: \"▸\";float: left;margin-right: 0.25em;color: #696969;}#sk-container-id-3 label.sk-toggleable__label-arrow:hover:before {color: black;}#sk-container-id-3 div.sk-estimator:hover label.sk-toggleable__label-arrow:before {color: black;}#sk-container-id-3 div.sk-toggleable__content {max-height: 0;max-width: 0;overflow: hidden;text-align: left;background-color: #f0f8ff;}#sk-container-id-3 div.sk-toggleable__content pre {margin: 0.2em;color: black;border-radius: 0.25em;background-color: #f0f8ff;}#sk-container-id-3 input.sk-toggleable__control:checked~div.sk-toggleable__content {max-height: 200px;max-width: 100%;overflow: auto;}#sk-container-id-3 input.sk-toggleable__control:checked~label.sk-toggleable__label-arrow:before {content: \"▾\";}#sk-container-id-3 div.sk-estimator input.sk-toggleable__control:checked~label.sk-toggleable__label {background-color: #d4ebff;}#sk-container-id-3 div.sk-label input.sk-toggleable__control:checked~label.sk-toggleable__label {background-color: #d4ebff;}#sk-container-id-3 input.sk-hidden--visually {border: 0;clip: rect(1px 1px 1px 1px);clip: rect(1px, 1px, 1px, 1px);height: 1px;margin: -1px;overflow: hidden;padding: 0;position: absolute;width: 1px;}#sk-container-id-3 div.sk-estimator {font-family: monospace;background-color: #f0f8ff;border: 1px dotted black;border-radius: 0.25em;box-sizing: border-box;margin-bottom: 0.5em;}#sk-container-id-3 div.sk-estimator:hover {background-color: #d4ebff;}#sk-container-id-3 div.sk-parallel-item::after {content: \"\";width: 100%;border-bottom: 1px solid gray;flex-grow: 1;}#sk-container-id-3 div.sk-label:hover label.sk-toggleable__label {background-color: #d4ebff;}#sk-container-id-3 div.sk-serial::before {content: \"\";position: absolute;border-left: 1px solid gray;box-sizing: border-box;top: 0;bottom: 0;left: 50%;z-index: 0;}#sk-container-id-3 div.sk-serial {display: flex;flex-direction: column;align-items: center;background-color: white;padding-right: 0.2em;padding-left: 0.2em;position: relative;}#sk-container-id-3 div.sk-item {position: relative;z-index: 1;}#sk-container-id-3 div.sk-parallel {display: flex;align-items: stretch;justify-content: center;background-color: white;position: relative;}#sk-container-id-3 div.sk-item::before, #sk-container-id-3 div.sk-parallel-item::before {content: \"\";position: absolute;border-left: 1px solid gray;box-sizing: border-box;top: 0;bottom: 0;left: 50%;z-index: -1;}#sk-container-id-3 div.sk-parallel-item {display: flex;flex-direction: column;z-index: 1;position: relative;background-color: white;}#sk-container-id-3 div.sk-parallel-item:first-child::after {align-self: flex-end;width: 50%;}#sk-container-id-3 div.sk-parallel-item:last-child::after {align-self: flex-start;width: 50%;}#sk-container-id-3 div.sk-parallel-item:only-child::after {width: 0;}#sk-container-id-3 div.sk-dashed-wrapped {border: 1px dashed gray;margin: 0 0.4em 0.5em 0.4em;box-sizing: border-box;padding-bottom: 0.4em;background-color: white;}#sk-container-id-3 div.sk-label label {font-family: monospace;font-weight: bold;display: inline-block;line-height: 1.2em;}#sk-container-id-3 div.sk-label-container {text-align: center;}#sk-container-id-3 div.sk-container {/* jupyter's `normalize.less` sets `[hidden] { display: none; }` but bootstrap.min.css set `[hidden] { display: none !important; }` so we also need the `!important` here to be able to override the default hidden behavior on the sphinx rendered scikit-learn.org. See: https://github.com/scikit-learn/scikit-learn/issues/21755 */display: inline-block !important;position: relative;}#sk-container-id-3 div.sk-text-repr-fallback {display: none;}</style><div id=\"sk-container-id-3\" class=\"sk-top-container\"><div class=\"sk-text-repr-fallback\"><pre>RandomForestRegressor()</pre><b>In a Jupyter environment, please rerun this cell to show the HTML representation or trust the notebook. <br />On GitHub, the HTML representation is unable to render, please try loading this page with nbviewer.org.</b></div><div class=\"sk-container\" hidden><div class=\"sk-item\"><div class=\"sk-estimator sk-toggleable\"><input class=\"sk-toggleable__control sk-hidden--visually\" id=\"sk-estimator-id-3\" type=\"checkbox\" checked><label for=\"sk-estimator-id-3\" class=\"sk-toggleable__label sk-toggleable__label-arrow\">RandomForestRegressor</label><div class=\"sk-toggleable__content\"><pre>RandomForestRegressor()</pre></div></div></div></div></div>"
      ],
      "text/plain": [
       "RandomForestRegressor()"
      ]
     },
     "execution_count": 68,
     "metadata": {},
     "output_type": "execute_result"
    }
   ],
   "source": [
    "model_RandomForestRegressor.fit(x_train,y_train)"
   ]
  },
  {
   "cell_type": "code",
   "execution_count": 69,
   "id": "507133a2",
   "metadata": {},
   "outputs": [
    {
     "data": {
      "text/plain": [
       "0.9894160044052137"
      ]
     },
     "execution_count": 69,
     "metadata": {},
     "output_type": "execute_result"
    }
   ],
   "source": [
    "model_RandomForestRegressor.score(x_test,y_test)"
   ]
  },
  {
   "cell_type": "code",
   "execution_count": 70,
   "id": "809e2ab9",
   "metadata": {},
   "outputs": [
    {
     "data": {
      "text/plain": [
       "array([168.56929959,  82.31229981, 116.24420037, 127.50210071,\n",
       "       120.6559011 , 154.82339782, 150.1422987 , 126.08590053,\n",
       "       117.43289883, 126.04450041, 116.61050071, 172.81450137,\n",
       "       141.59769927, 167.47389843, 115.30259988, 117.68940041,\n",
       "       138.76710328, 169.76660085, 159.20750338, 157.44739887,\n",
       "       155.20540079, 125.1440001 , 175.25660032, 156.47060444,\n",
       "       125.28380026,  93.81659961,  77.41149995, 120.32220032,\n",
       "       119.08589904, 167.49059926,  87.9806003 , 125.31959999,\n",
       "        91.12000071, 117.80940006, 121.18629925, 136.42970063,\n",
       "       115.44520124, 114.94280057, 146.93229982, 107.28150095,\n",
       "       104.27310263,  87.03759776, 126.35410036, 117.79319984,\n",
       "       153.95509876, 119.74000023, 108.30799973, 108.10709804,\n",
       "        93.15970033, 127.21019756,  74.93740034, 113.62229889,\n",
       "       121.28140026, 111.24079955, 118.76759873, 120.80859955,\n",
       "       158.66610024, 166.83040098, 146.90169705,  86.01899866,\n",
       "        94.29050033,  86.73789862,  90.62190008, 119.00450054,\n",
       "       126.38540066, 127.69429994, 170.13080023, 122.33289963,\n",
       "       117.26279905,  98.94700067, 168.1164011 , 143.02509832,\n",
       "       132.39560235, 121.14300222, 120.97899916, 119.75760078,\n",
       "       114.45410149, 118.36010031, 107.30820101, 127.80499987,\n",
       "       113.94239994, 107.59989992, 116.68070103, 119.85509851,\n",
       "        89.2356004 ,  88.20629839, 146.15270187, 126.99300006,\n",
       "       113.71600004, 109.38739848, 108.22319897,  77.10159931,\n",
       "       169.81980219, 113.99999921, 121.64519895, 127.89620165,\n",
       "       155.00969788,  91.83389926, 135.3079011 , 158.70780274,\n",
       "       125.95390051, 125.16050074, 130.62230169, 114.95720109,\n",
       "       119.75969944,  92.08159987, 110.29389869, 168.59620001,\n",
       "       157.51609954, 114.18549947, 106.70670112,  79.91849971,\n",
       "       113.3874004 , 125.74800027, 107.14669888, 119.453601  ,\n",
       "       156.32730333, 159.92959906, 120.47999975, 133.38640344,\n",
       "       101.43390018, 117.67709789, 119.16290021, 112.98960099,\n",
       "       102.78529907, 160.20719792,  98.8786004 , 147.11019852,\n",
       "       125.33890116, 169.56119876, 126.00929802, 127.3662975 ,\n",
       "       127.46950194, 113.71869918, 112.91430058, 123.70719894,\n",
       "       102.12789928,  89.14329981, 124.39449968, 101.74799955,\n",
       "       107.09639876, 113.25970086, 117.50890049,  99.2436997 ,\n",
       "       121.49440076, 163.71989918,  87.32889856, 106.83530008,\n",
       "       117.3974009 , 127.6549013 , 124.22360042,  80.71489902,\n",
       "       120.53490077, 157.82799788,  87.84289959, 110.27069924,\n",
       "       118.82849919, 173.19239892, 103.02109915, 105.48980046,\n",
       "       122.48880029, 158.20409756,  87.73379806,  93.25510049,\n",
       "       112.68210006, 176.63449988, 114.3925997 , 119.13109997,\n",
       "        94.51190091, 125.91910015, 166.41980129, 114.96560096,\n",
       "       116.88350119,  88.30789855, 149.0692012 , 120.38099926,\n",
       "        89.5294    , 111.58030014, 117.32740036, 118.80480124,\n",
       "        88.14359911,  94.0802    , 116.69180014, 118.59410215,\n",
       "       120.29800044, 126.75179817, 121.96439993, 149.43689986,\n",
       "       165.86350082, 118.5458995 , 120.52500122, 150.98410076,\n",
       "       118.42369897, 173.42769889, 105.49069908, 105.00380102,\n",
       "       149.27580139, 113.70690103, 124.77930137, 147.45399981,\n",
       "       119.6565013 , 115.27040039, 112.02300004, 113.65250156,\n",
       "       141.58300091, 117.87719776, 102.92330048, 115.80990094,\n",
       "       103.72630187,  98.88240036, 117.58570068,  90.57330011,\n",
       "        91.65430057, 153.46099948, 102.71949999, 154.25630087,\n",
       "       114.36900119, 139.28930087,  90.31859858, 115.44369959,\n",
       "       114.40739984, 122.94570013, 121.75880032, 165.39920152,\n",
       "        92.94089935, 135.64720108, 121.34779931, 120.74650079,\n",
       "       104.61300028, 141.59560293, 121.13219916, 116.79220047,\n",
       "       113.60980085, 127.09419738, 122.66579935, 125.74469899,\n",
       "       121.23740051,  86.94669937, 132.21370197, 145.73510174,\n",
       "        92.72919944, 158.85999931, 158.89220228, 126.49499876,\n",
       "       165.31129946, 108.82329955, 109.78450085, 103.71989864,\n",
       "        94.11240085, 127.68540285, 106.98900045, 161.86339989,\n",
       "       121.56850052, 131.97150049, 130.7268015 , 160.04350049,\n",
       "        90.16649856, 175.12680166, 127.85920024, 126.88929833,\n",
       "        86.48409934, 124.71279916, 150.37419717,  89.69980024,\n",
       "       106.93489991, 109.16479994,  84.59259888, 135.96480006,\n",
       "       155.16970244, 138.76930364,  74.06020021, 152.42140045,\n",
       "       125.6439995 , 126.7368999 , 127.54249892, 108.55079976,\n",
       "       156.23040032, 114.56650111, 116.91500168, 125.32709919,\n",
       "       153.97460048, 121.22130023, 156.42559922,  93.0103009 ,\n",
       "       125.46190146, 125.45880048,  87.81760036,  92.15969912,\n",
       "       126.25289942, 128.49890356, 113.19860074, 117.58639736,\n",
       "       120.95510023, 127.10909784, 119.78580088, 136.18780197,\n",
       "        93.95159934, 119.70620054, 113.38560096,  94.31079968,\n",
       "       108.8047996 ,  86.9574991 , 109.3878991 ,  89.62359964,\n",
       "        92.51670012, 131.52940293, 162.38880079,  89.28280014,\n",
       "       119.58300081, 133.44580187, 123.77060024, 128.33090194,\n",
       "       101.95399873,  89.26079898, 132.43560002, 119.88060033,\n",
       "       108.3924003 , 169.02290131, 115.24430052,  86.63399942,\n",
       "       118.93800056,  91.21429954, 161.72270028, 116.61070043,\n",
       "       121.35190028, 160.12549725, 120.01509949, 112.78199962,\n",
       "       108.38599869, 126.67429973,  76.1838001 , 103.02039983,\n",
       "       127.32240255, 121.96099912,  92.65239973, 132.11160038,\n",
       "       118.37390082, 115.70799968, 154.34070294, 159.97330077,\n",
       "       110.11749956, 153.79909691, 119.2727012 , 160.58750031,\n",
       "       118.54680027, 158.50639934, 115.07309929, 116.53960028,\n",
       "       148.77169861, 114.86500053, 125.67699886, 167.29149902,\n",
       "       117.74540017, 124.96289934, 153.22360366, 153.41110288,\n",
       "       132.05650094, 114.78690032, 121.18440207, 124.6525005 ,\n",
       "        89.87510024, 123.29189989, 154.71980208, 111.69070046,\n",
       "       106.82899994, 161.17860095, 118.6604997 , 165.72290053,\n",
       "       134.04380072, 114.57099954, 153.09359951, 168.66470016,\n",
       "       115.33449992, 114.04670109, 158.12539985,  85.17679919,\n",
       "       127.22660037, 127.88710079, 128.94720001, 124.48300082,\n",
       "       123.87190098,  90.61060089, 153.36139941,  97.01759999,\n",
       "       137.39539982,  89.03179936, 107.66890018, 115.02990032,\n",
       "       112.41570064, 123.92529947,  91.45639888, 125.59550167,\n",
       "       162.36829863, 119.96999933, 165.13610047, 126.87469777,\n",
       "       112.21530023, 127.40269921,  94.97209919,  90.83650017,\n",
       "       103.16619898, 120.74880021,  83.11959957, 126.2955005 ,\n",
       "       160.18080454, 117.46520061, 118.2787997 , 119.63380006,\n",
       "       122.73959957, 120.1971013 , 121.44419993, 118.20030054,\n",
       "       107.10699986, 148.58340083, 126.50679783, 115.67710075,\n",
       "        73.92590011, 127.87310094, 154.93610054, 122.61590013,\n",
       "       125.55960072,  88.784     , 103.31749875, 124.74670046,\n",
       "       120.32970002,  73.41660077, 151.56970074, 121.00450047,\n",
       "       104.64540012,  86.26469765, 115.12079906, 172.22159838,\n",
       "       120.07570022, 160.66129812, 113.20769939, 121.26500046,\n",
       "       118.78320011,  95.79629986, 118.86239978, 125.69540044,\n",
       "       118.55459973,  96.11240089, 154.43260185, 121.76510015,\n",
       "       148.19079982, 158.38540218, 113.76510009, 122.51389951,\n",
       "       148.01899803, 127.26550046, 165.59810109, 135.70689973,\n",
       "       119.97229966, 168.48229939, 108.3231992 , 121.70309856,\n",
       "       139.94690189, 106.6778992 ])"
      ]
     },
     "execution_count": 70,
     "metadata": {},
     "output_type": "execute_result"
    }
   ],
   "source": [
    "pre=model_RandomForestRegressor.predict(x_test)\n",
    "pre"
   ]
  },
  {
   "cell_type": "code",
   "execution_count": 73,
   "id": "8db84833",
   "metadata": {},
   "outputs": [
    {
     "data": {
      "text/plain": [
       "[<matplotlib.lines.Line2D at 0x7fb6652e7a00>]"
      ]
     },
     "execution_count": 73,
     "metadata": {},
     "output_type": "execute_result"
    },
    {
     "data": {
      "text/plain": [
       "[<matplotlib.lines.Line2D at 0x7fb6652d8550>]"
      ]
     },
     "execution_count": 73,
     "metadata": {},
     "output_type": "execute_result"
    },
    {
     "name": "stderr",
     "output_type": "stream",
     "text": [
      "No handles with labels found to put in legend.\n"
     ]
    },
    {
     "data": {
      "text/plain": [
       "<matplotlib.legend.Legend at 0x7fb6652e7970>"
      ]
     },
     "execution_count": 73,
     "metadata": {},
     "output_type": "execute_result"
    },
    {
     "data": {
      "image/png": "[encoded data removed]",
      "text/plain": [
       "<Figure size 432x288 with 1 Axes>"
      ]
     },
     "metadata": {
      "needs_background": "light"
     },
     "output_type": "display_data"
    }
   ],
   "source": [
    "plt.plot(list(y_test),color=\"blue\")\n",
    "plt.plot(pre,color=\"green\")\n",
    "plt.legend()\n",
    "plt.show()"
   ]
  },
  {
   "cell_type": "code",
   "execution_count": null,
   "id": "911a67b2",
   "metadata": {},
   "outputs": [],
   "source": []
  }
 ],
 "metadata": {
  "kernelspec": {
   "display_name": "Python 3 (ipykernel)",
   "language": "python",
   "name": "python3"
  },
  "language_info": {
   "codemirror_mode": {
    "name": "ipython",
    "version": 3
   },
   "file_extension": ".py",
   "mimetype": "text/x-python",
   "name": "python",
   "nbconvert_exporter": "python",
   "pygments_lexer": "ipython3",
   "version": "3.9.7"
  }
 },
 "nbformat": 4,
 "nbformat_minor": 5
}
